{
 "cells": [
  {
   "cell_type": "code",
   "execution_count": 16,
   "metadata": {},
   "outputs": [
    {
     "name": "stdout",
     "output_type": "stream",
     "text": [
      "8\n",
      "7\n",
      "6\n",
      "5\n",
      "4\n",
      "3\n",
      "2\n",
      "1\n",
      "0\n",
      "[ 5  1  3  6  8  2  9  0 10]\n",
      "[7 1 5 2 0 3 4 6 8]\n",
      "[0 1 2 3 4 5 6 7 8]\n",
      "[4 1 3 5 6 2 7 0 8]\n",
      "[ 4  2  5  8 10  7 13  7 16]\n",
      "[1 0 0 0 0 1 0 1 0]\n",
      "[0 1 1 0 0 0 0 1 1]\n",
      "8\n"
     ]
    }
   ],
   "source": [
    "import numpy as np\n",
    "\n",
    "str1 = '9'\n",
    "str2 = '5,1,3,6,8,2,9,0,10'\n",
    "\n",
    "def main(s1, s2):\n",
    "    len = int(str1)\n",
    "    m = np.array([int(i) for i in s2.split(\",\")])\n",
    "    m1 = np.zeros(len, int)\n",
    "    m2 = np.zeros(len, int)\n",
    "    m3 = np.zeros(len, int)\n",
    "    m4 = np.zeros(len, int)\n",
    "    m5 = np.zeros(len, int)\n",
    "    m6 = np.zeros(len, int)\n",
    "    \n",
    "    \n",
    "    m1 = np.argsort(m)\n",
    "        \n",
    "    for i in range(len):\n",
    "        m2[i] = i\n",
    "    \n",
    "    for i in range(len):\n",
    "        m3[m1[i]] = m3[m1[i]] + i\n",
    "    \n",
    "    for i in range(len):\n",
    "        m4[i] = m2[i] + m3[i]\n",
    "\n",
    "    ind = list(m4).index(min(m4))\n",
    "    for i in range(len):\n",
    "        if i < ind:\n",
    "            m5[i] = 1\n",
    "        \n",
    "        if i == ind:\n",
    "            m5[i] = 0\n",
    "            mm = m4[i]\n",
    "        \n",
    "        if i > ind:\n",
    "            if m4[i] > mm:\n",
    "                m5[i] = 0\n",
    "                mm = m4[i]\n",
    "            else:\n",
    "                m5[i] = 1\n",
    "           \n",
    "    ind = list(m4).index(max(m4))\n",
    "    for i in range(len-1, -1, -1):\n",
    "        \n",
    "    \n",
    "    \n",
    "    print(m)\n",
    "    print(m1)\n",
    "    print(m2)\n",
    "    print(m3)\n",
    "    print(m4)\n",
    "    print(m5)\n",
    "    print(m6)\n",
    "    print(ind)\n",
    "    \n",
    "    \n",
    "    #for i in range(len):\n",
    "    #    print(m[m1[i]])\n",
    "\n",
    "main(str1, str2)"
   ]
  },
  {
   "cell_type": "code",
   "execution_count": null,
   "metadata": {},
   "outputs": [],
   "source": []
  }
 ],
 "metadata": {
  "kernelspec": {
   "display_name": "Python 3",
   "language": "python",
   "name": "python3"
  },
  "language_info": {
   "codemirror_mode": {
    "name": "ipython",
    "version": 3
   },
   "file_extension": ".py",
   "mimetype": "text/x-python",
   "name": "python",
   "nbconvert_exporter": "python",
   "pygments_lexer": "ipython3",
   "version": "3.7.2"
  }
 },
 "nbformat": 4,
 "nbformat_minor": 2
}
