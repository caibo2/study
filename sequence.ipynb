{
 "cells": [
  {
   "cell_type": "code",
   "execution_count": 14,
   "metadata": {},
   "outputs": [
    {
     "name": "stdout",
     "output_type": "stream",
     "text": [
      "[ 5  1  3  6  8  2  9  0 10]\n"
     ]
    }
   ],
   "source": [
    "import numpy as np\n",
    "\n",
    "str1 = '9'\n",
    "str2 = '5,1,3,6,8,2,9,0,10'\n",
    "\n",
    "def main(s1, s2):\n",
    "    len = int(str1)\n",
    "    m = np.array([int(i) for i in s2.split(\",\")])\n",
    "    \n",
    "    print(m)\n",
    "\n",
    "main(str1, str2)"
   ]
  },
  {
   "cell_type": "code",
   "execution_count": null,
   "metadata": {},
   "outputs": [],
   "source": []
  }
 ],
 "metadata": {
  "kernelspec": {
   "display_name": "Python 3",
   "language": "python",
   "name": "python3"
  },
  "language_info": {
   "codemirror_mode": {
    "name": "ipython",
    "version": 3
   },
   "file_extension": ".py",
   "mimetype": "text/x-python",
   "name": "python",
   "nbconvert_exporter": "python",
   "pygments_lexer": "ipython3",
   "version": "3.7.2"
  }
 },
 "nbformat": 4,
 "nbformat_minor": 2
}
