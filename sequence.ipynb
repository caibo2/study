{
 "cells": [
  {
   "cell_type": "code",
   "execution_count": 27,
   "metadata": {},
   "outputs": [
    {
     "name": "stdout",
     "output_type": "stream",
     "text": [
      "[7 1 5 2 0 3 4 6 8] [0 1 2 3 4 5 6 7 8] [ 7  2  7  5  4  8 10 13 16]\n",
      "0\n",
      "1\n",
      "2\n",
      "3\n",
      "5\n",
      "6\n",
      "8\n",
      "9\n",
      "10\n"
     ]
    }
   ],
   "source": [
    "import numpy as np\n",
    "\n",
    "str1 = '9'\n",
    "str2 = '5,1,3,6,8,2,9,0,10'\n",
    "\n",
    "def main(s1, s2):\n",
    "    len = int(str1)\n",
    "    m = np.array([int(i) for i in s2.split(\",\")])\n",
    "    m1 = np.zeros(len, int)\n",
    "    m2 = np.zeros(len, int)\n",
    "    m3 = np.zeros(len, int)\n",
    "    \n",
    "    #for i in range(len):\n",
    "    m1 = np.argsort(m)\n",
    "        \n",
    "    for i in range(len):\n",
    "        m2[i] = i\n",
    "    \n",
    "    for i in range(len):\n",
    "        m3[i] = m1[i] + m2[i]\n",
    "    \n",
    "    print(m1, m2, m3)\n",
    "    for i in range(len):\n",
    "        print(m[m1[i]])\n",
    "\n",
    "main(str1, str2)"
   ]
  },
  {
   "cell_type": "code",
   "execution_count": null,
   "metadata": {},
   "outputs": [],
   "source": []
  }
 ],
 "metadata": {
  "kernelspec": {
   "display_name": "Python 3",
   "language": "python",
   "name": "python3"
  },
  "language_info": {
   "codemirror_mode": {
    "name": "ipython",
    "version": 3
   },
   "file_extension": ".py",
   "mimetype": "text/x-python",
   "name": "python",
   "nbconvert_exporter": "python",
   "pygments_lexer": "ipython3",
   "version": "3.7.2"
  }
 },
 "nbformat": 4,
 "nbformat_minor": 2
}
